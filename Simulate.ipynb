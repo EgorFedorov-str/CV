{
  "nbformat": 4,
  "nbformat_minor": 0,
  "metadata": {
    "colab": {
      "provenance": [],
      "authorship_tag": "ABX9TyOItuhpZy2TKTGo7d3gZGLk",
      "include_colab_link": true
    },
    "kernelspec": {
      "name": "python3",
      "display_name": "Python 3"
    },
    "language_info": {
      "name": "python"
    }
  },
  "cells": [
    {
      "cell_type": "markdown",
      "metadata": {
        "id": "view-in-github",
        "colab_type": "text"
      },
      "source": [
        "<a href=\"https://colab.research.google.com/github/EgorFedorov-str/CV/blob/main/Simulate.ipynb\" target=\"_parent\"><img src=\"https://colab.research.google.com/assets/colab-badge.svg\" alt=\"Open In Colab\"/></a>"
      ]
    },
    {
      "cell_type": "code",
      "execution_count": 4,
      "metadata": {
        "id": "J0Qfg_Zzmi04",
        "colab": {
          "base_uri": "https://localhost:8080/",
          "height": 589
        },
        "outputId": "2c4dd70d-b376-46c3-9f50-678c7656bcd9"
      },
      "outputs": [
        {
          "output_type": "error",
          "ename": "ModuleNotFoundError",
          "evalue": "No module named 'UAV'",
          "traceback": [
            "\u001b[0;31m---------------------------------------------------------------------------\u001b[0m",
            "\u001b[0;31mModuleNotFoundError\u001b[0m                       Traceback (most recent call last)",
            "\u001b[0;32m<ipython-input-4-23c895afacda>\u001b[0m in \u001b[0;36m<cell line: 8>\u001b[0;34m()\u001b[0m\n\u001b[1;32m      6\u001b[0m \u001b[0;31m# aero = loadmat(\"AeroStruct.mat\")\u001b[0m\u001b[0;34m\u001b[0m\u001b[0;34m\u001b[0m\u001b[0m\n\u001b[1;32m      7\u001b[0m \u001b[0;32mfrom\u001b[0m \u001b[0mUAV_update\u001b[0m \u001b[0;32mimport\u001b[0m \u001b[0mUAV\u001b[0m\u001b[0;34m,\u001b[0m \u001b[0mUAVstate0\u001b[0m\u001b[0;34m\u001b[0m\u001b[0;34m\u001b[0m\u001b[0m\n\u001b[0;32m----> 8\u001b[0;31m \u001b[0;32mimport\u001b[0m \u001b[0mSAU\u001b[0m\u001b[0;34m\u001b[0m\u001b[0;34m\u001b[0m\u001b[0m\n\u001b[0m\u001b[1;32m      9\u001b[0m \u001b[0;32mfrom\u001b[0m \u001b[0mSkywalker_update\u001b[0m \u001b[0;32mimport\u001b[0m \u001b[0mUSkywalker2015_Aerodynamic\u001b[0m\u001b[0;34m\u001b[0m\u001b[0;34m\u001b[0m\u001b[0m\n\u001b[1;32m     10\u001b[0m \u001b[0;34m\u001b[0m\u001b[0m\n",
            "\u001b[0;32m/content/SAU.py\u001b[0m in \u001b[0;36m<module>\u001b[0;34m\u001b[0m\n\u001b[0;32m----> 1\u001b[0;31m \u001b[0;32mfrom\u001b[0m \u001b[0mUAV\u001b[0m \u001b[0;32mimport\u001b[0m \u001b[0mSAU_in\u001b[0m\u001b[0;34m,\u001b[0m\u001b[0mSAU_out\u001b[0m\u001b[0;34m\u001b[0m\u001b[0;34m\u001b[0m\u001b[0m\n\u001b[0m\u001b[1;32m      2\u001b[0m \u001b[0;32mfrom\u001b[0m \u001b[0mmath\u001b[0m \u001b[0;32mimport\u001b[0m \u001b[0;34m*\u001b[0m\u001b[0;34m\u001b[0m\u001b[0;34m\u001b[0m\u001b[0m\n\u001b[1;32m      3\u001b[0m \u001b[0;32mfrom\u001b[0m \u001b[0mpandas\u001b[0m \u001b[0;32mimport\u001b[0m \u001b[0mDataFrame\u001b[0m\u001b[0;34m,\u001b[0m \u001b[0mconcat\u001b[0m\u001b[0;34m\u001b[0m\u001b[0;34m\u001b[0m\u001b[0m\n\u001b[1;32m      4\u001b[0m \u001b[0;34m\u001b[0m\u001b[0m\n\u001b[1;32m      5\u001b[0m \u001b[0mclamp\u001b[0m \u001b[0;34m=\u001b[0m \u001b[0;32mlambda\u001b[0m \u001b[0mn\u001b[0m\u001b[0;34m,\u001b[0m \u001b[0mminn\u001b[0m\u001b[0;34m,\u001b[0m \u001b[0mmaxn\u001b[0m\u001b[0;34m:\u001b[0m \u001b[0mmax\u001b[0m\u001b[0;34m(\u001b[0m\u001b[0mmin\u001b[0m\u001b[0;34m(\u001b[0m\u001b[0mmaxn\u001b[0m\u001b[0;34m,\u001b[0m \u001b[0mn\u001b[0m\u001b[0;34m)\u001b[0m\u001b[0;34m,\u001b[0m \u001b[0mminn\u001b[0m\u001b[0;34m)\u001b[0m\u001b[0;34m\u001b[0m\u001b[0;34m\u001b[0m\u001b[0m\n",
            "\u001b[0;31mModuleNotFoundError\u001b[0m: No module named 'UAV'",
            "",
            "\u001b[0;31m---------------------------------------------------------------------------\u001b[0;32m\nNOTE: If your import is failing due to a missing package, you can\nmanually install dependencies using either !pip or !apt.\n\nTo view examples of installing some common dependencies, click the\n\"Open Examples\" button below.\n\u001b[0;31m---------------------------------------------------------------------------\u001b[0m\n"
          ],
          "errorDetails": {
            "actions": [
              {
                "action": "open_url",
                "actionText": "Open Examples",
                "url": "/notebooks/snippets/importing_libraries.ipynb"
              }
            ]
          }
        }
      ],
      "source": [
        "from scipy.io import loadmat\n",
        "import matplotlib.pyplot as plt\n",
        "from numpy import polyval\n",
        "from scipy.interpolate import interp1d\n",
        "import numpy as np\n",
        "# aero = loadmat(\"AeroStruct.mat\")\n",
        "from UAV_update import UAV, UAVstate0\n",
        "import SAU\n",
        "from Skywalker_update import USkywalker2015_Aerodynamic\n",
        "\n",
        "skywalker = USkywalker2015_Aerodynamic()\n",
        "uav = UAV(0.1, 10,UAVstate0())\n",
        "\n",
        "\n",
        "# Функция расчета АДХ\n",
        "# fCxya_el = lambda AoA,delta:(polyval(aero [\"K_dCxa_1\"][0],AoA)*(delta**2) + polyval(aero [\"K_dCxa_2\"][0],AoA)*delta + polyval(aero [\"K_dCxa_3\"][0],AoA))\n",
        "# fCya = lambda AoA,delta:(polyval(aero [\"K_Cya\"][0],AoA) + fCxya_el(AoA,delta))\n",
        "# fCxa = lambda AoA:(polyval(aero [\"K_Cxa\"][0],AoA))\n",
        "\n",
        "# Функция расчета моментных характеристик (AoA, delta) - град\n",
        "\n",
        "delta_elern = np.linspace(-25, 25, 10, endpoint=True) #\n",
        "mzde_val = np.linspace(-0.4, 0.4, 10, endpoint=True) #\n",
        "mzde_func = interp1d(delta_elern,mzde_val)\n",
        "\n",
        "# fmza_el = lambda AoA,delta:(polyval(aero [\"K_mz1_e\"][0],AoA)*(delta**2) + polyval(aero [\"K_mz2_e\"][0],AoA)*delta + polyval(aero [\"K_mz3_e\"][0],AoA))\n",
        "# fmza = lambda AoA,delta:(polyval(aero [\"K_mz_a\"][0],AoA) + fmza_el(AoA,delta) + mzde_func(delta))\n",
        "# Cx = UAV.calculate_cx()\n",
        "def fmza(AoA, delta_elern):\n",
        "  return uav.calculate_fmza(AoA, delta_elern)\n",
        "\n",
        "# fmza = lambda AoA, deltaLift:(skywalker.calculate_moments(AoA, deltaLift))\n",
        "print(mzde_func(0))\n",
        "AoA_range = np.linspace(-10,10,10)\n",
        "res = fmza(AoA_range,0)\n",
        "\n",
        "fig, ax = plt.subplots()\n",
        "\n",
        "print(fmza(AoA_range, 0), 'aaaa')\n",
        "\n",
        "# ax.plot(AoA_range, fmza(AoA_range,0))\n",
        "ax.plot(AoA_range, fmza(AoA_range,25))\n",
        "#ax.set_aspect('equal')\n",
        "ax.grid(True, which='both')\n",
        "\n",
        "ax.axhline(y=0, color='k')\n",
        "ax.axvline(x=0, color='k')"
      ]
    },
    {
      "cell_type": "code",
      "source": [
        "%load_ext autoreload\n",
        "%autoreload 2\n",
        "from pandas import DataFrame\n",
        "\n",
        "from UAV_update import UAV,UAVstate0\n",
        "from SAU import SAU\n",
        "from matplotlib import pyplot as plt\n",
        "\n",
        "uav_state0 = UAVstate0()\n",
        "AoA_range = np.linspace(-6, 6, 20)\n",
        "Cx_a = []\n",
        "Cy_a = []\n",
        "mz_a = []\n",
        "mz_aDelta15 = []\n",
        "mz_aDelta_15 = []\n",
        "\n",
        "uav =  UAV(0.1,10,uav_state0)\n",
        "sau  =  SAU()\n",
        "\n",
        "\n",
        "for i in range (0, len(AoA_range)-1):\n",
        "  AoA_now = float(AoA_range[i])\n",
        "  print(AoA_now)\n",
        "  Cx_a.append(uav.fCxa(AoA_now))\n",
        "  Cy_a.append(uav.fCya(AoA_now))\n",
        "  mz_a.append(uav.calculate_mz(AoA_now,Cx_a[i], Cy_a[i], 0, 0))\n",
        "  mz_aDelta15.append(uav.calculate_mz(AoA_now,Cx_a[i], Cy_a[i], 0, 15))\n",
        "  mz_aDelta_15.append(uav.calculate_mz(AoA_now,Cx_a[i], Cy_a[i], 0, -15))\n",
        "  # print\n",
        "columns_names_aero=list([\"AoA\",\"Cxa\",\"Cya\",\"mza\",\"mza_15\",\"mza_-15\"])\n",
        "data_all = [AoA_range,Cx_a,Cy_a,mz_a,mz_aDelta15, mz_aDelta_15]\n",
        "data = DataFrame(data_all,columns_names_aero).transpose()\n",
        "fig, axes = plt.subplots(nrows=2, ncols=2)\n",
        "data = data.astype(float)\n",
        "data.plot(ax=axes[0,0],x=\"AoA\", y=\"Cxa\")\n",
        "data.plot(ax=axes[0,1],x=\"AoA\", y=\"Cya\")\n",
        "data.plot(ax=axes[1,0],x=\"AoA\", y=\"mza\")\n",
        "data.plot(ax=axes[1,0],x=\"AoA\", y=\"mza_15\")\n",
        "data.plot(ax=axes[1,0],x=\"AoA\", y=\"mza_-15\")\n"
      ],
      "metadata": {
        "colab": {
          "base_uri": "https://localhost:8080/",
          "height": 625
        },
        "id": "NNQ1TnhG8ZYJ",
        "outputId": "1ef434d5-981c-4cc9-91d1-d3d4d3695c68"
      },
      "execution_count": 7,
      "outputs": [
        {
          "output_type": "stream",
          "name": "stdout",
          "text": [
            "The autoreload extension is already loaded. To reload it, use:\n",
            "  %reload_ext autoreload\n"
          ]
        },
        {
          "output_type": "error",
          "ename": "ModuleNotFoundError",
          "evalue": "No module named 'UAV'",
          "traceback": [
            "\u001b[0;31m---------------------------------------------------------------------------\u001b[0m",
            "\u001b[0;31mModuleNotFoundError\u001b[0m                       Traceback (most recent call last)",
            "\u001b[0;32m<ipython-input-7-7bca6768a842>\u001b[0m in \u001b[0;36m<cell line: 6>\u001b[0;34m()\u001b[0m\n\u001b[1;32m      4\u001b[0m \u001b[0;34m\u001b[0m\u001b[0m\n\u001b[1;32m      5\u001b[0m \u001b[0;32mfrom\u001b[0m \u001b[0mUAV_update\u001b[0m \u001b[0;32mimport\u001b[0m \u001b[0mUAV\u001b[0m\u001b[0;34m,\u001b[0m\u001b[0mUAVstate0\u001b[0m\u001b[0;34m\u001b[0m\u001b[0;34m\u001b[0m\u001b[0m\n\u001b[0;32m----> 6\u001b[0;31m \u001b[0;32mfrom\u001b[0m \u001b[0mSAU\u001b[0m \u001b[0;32mimport\u001b[0m \u001b[0mSAU\u001b[0m\u001b[0;34m\u001b[0m\u001b[0;34m\u001b[0m\u001b[0m\n\u001b[0m\u001b[1;32m      7\u001b[0m \u001b[0;32mfrom\u001b[0m \u001b[0mmatplotlib\u001b[0m \u001b[0;32mimport\u001b[0m \u001b[0mpyplot\u001b[0m \u001b[0;32mas\u001b[0m \u001b[0mplt\u001b[0m\u001b[0;34m\u001b[0m\u001b[0;34m\u001b[0m\u001b[0m\n\u001b[1;32m      8\u001b[0m \u001b[0;34m\u001b[0m\u001b[0m\n",
            "\u001b[0;32m/content/SAU.py\u001b[0m in \u001b[0;36m<module>\u001b[0;34m\u001b[0m\n\u001b[0;32m----> 1\u001b[0;31m \u001b[0;32mfrom\u001b[0m \u001b[0mUAV\u001b[0m \u001b[0;32mimport\u001b[0m \u001b[0mSAU_in\u001b[0m\u001b[0;34m,\u001b[0m\u001b[0mSAU_out\u001b[0m\u001b[0;34m\u001b[0m\u001b[0;34m\u001b[0m\u001b[0m\n\u001b[0m\u001b[1;32m      2\u001b[0m \u001b[0;32mfrom\u001b[0m \u001b[0mmath\u001b[0m \u001b[0;32mimport\u001b[0m \u001b[0;34m*\u001b[0m\u001b[0;34m\u001b[0m\u001b[0;34m\u001b[0m\u001b[0m\n\u001b[1;32m      3\u001b[0m \u001b[0;32mfrom\u001b[0m \u001b[0mpandas\u001b[0m \u001b[0;32mimport\u001b[0m \u001b[0mDataFrame\u001b[0m\u001b[0;34m,\u001b[0m \u001b[0mconcat\u001b[0m\u001b[0;34m\u001b[0m\u001b[0;34m\u001b[0m\u001b[0m\n\u001b[1;32m      4\u001b[0m \u001b[0;34m\u001b[0m\u001b[0m\n\u001b[1;32m      5\u001b[0m \u001b[0mclamp\u001b[0m \u001b[0;34m=\u001b[0m \u001b[0;32mlambda\u001b[0m \u001b[0mn\u001b[0m\u001b[0;34m,\u001b[0m \u001b[0mminn\u001b[0m\u001b[0;34m,\u001b[0m \u001b[0mmaxn\u001b[0m\u001b[0;34m:\u001b[0m \u001b[0mmax\u001b[0m\u001b[0;34m(\u001b[0m\u001b[0mmin\u001b[0m\u001b[0;34m(\u001b[0m\u001b[0mmaxn\u001b[0m\u001b[0;34m,\u001b[0m \u001b[0mn\u001b[0m\u001b[0;34m)\u001b[0m\u001b[0;34m,\u001b[0m \u001b[0mminn\u001b[0m\u001b[0;34m)\u001b[0m\u001b[0;34m\u001b[0m\u001b[0;34m\u001b[0m\u001b[0m\n",
            "\u001b[0;31mModuleNotFoundError\u001b[0m: No module named 'UAV'",
            "",
            "\u001b[0;31m---------------------------------------------------------------------------\u001b[0;32m\nNOTE: If your import is failing due to a missing package, you can\nmanually install dependencies using either !pip or !apt.\n\nTo view examples of installing some common dependencies, click the\n\"Open Examples\" button below.\n\u001b[0;31m---------------------------------------------------------------------------\u001b[0m\n"
          ],
          "errorDetails": {
            "actions": [
              {
                "action": "open_url",
                "actionText": "Open Examples",
                "url": "/notebooks/snippets/importing_libraries.ipynb"
              }
            ]
          }
        }
      ]
    },
    {
      "cell_type": "markdown",
      "source": [
        "# Новый раздел"
      ],
      "metadata": {
        "id": "zt6XZMX-pxky"
      }
    }
  ]
}